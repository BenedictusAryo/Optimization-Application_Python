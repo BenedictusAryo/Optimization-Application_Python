{
 "cells": [
  {
   "cell_type": "markdown",
   "metadata": {},
   "source": [
    "# Basic PuLP for Linear Programming\n",
    "\n",
    "Here's the sample case of Optimization problems that we will solve using PuLP to solve the problems\n"
   ]
  },
  {
   "cell_type": "markdown",
   "metadata": {},
   "source": [
    "## Problems 1: Cake Bakery Boutique\n",
    "There are 2 types of cakes sold, Cake A produce profit 20 dollar, Cake B produce profit 40 dollar, \n",
    "\n",
    "**Resources needed to produce cake:**\n",
    "\n",
    "| |**Cake A**|**Cake B**|\n",
    "|--|--|--|\n",
    "|Oven |0.5 days|1 days|\n",
    "|Bakers |1 day|2.5 days|\n",
    "|Packers |1 days|2 days|\n",
    "\n",
    "We want to know how many cakes we can made per month to maximize bakery profit given our bakery resources:\n",
    "\n",
    "* 1 Oven\n",
    "* 2 Bakers\n",
    "* 1 Packaging packer (only worksfor 22 days per month)\n",
    "\n",
    "\n",
    "### Solving:\n",
    "* Objective function : Profit = 20*A + 40*B\n",
    "* Subject to:\n",
    "    * A >= 0 # Number of cakes always positive\n",
    "    * B >= 0\n",
    "    * 0.5A + 1B <=30 # Oven use monthly\n",
    "    * 1A + 2.5 B <= 60 #Since there's 2 Bakers\n",
    "    * 1A + 2B <= 22 # Packers only works 22 days per month"
   ]
  },
  {
   "cell_type": "code",
   "execution_count": null,
   "metadata": {},
   "outputs": [],
   "source": [
    "from pulp import *"
   ]
  },
  {
   "cell_type": "code",
   "execution_count": null,
   "metadata": {},
   "outputs": [],
   "source": [
    "# Initialize Class\n",
    "model = LpProblem('Maximuze_Bakery_Profits', LpMaximize)\n"
   ]
  },
  {
   "cell_type": "code",
   "execution_count": null,
   "metadata": {},
   "outputs": [],
   "source": [
    "# Define Decision Variable\n",
    "A = LpVariable('Cake A', lowBound=0, cat='Integer')\n",
    "B = LpVariable('Cake B', lowBound=0, cat='Integer')"
   ]
  },
  {
   "cell_type": "code",
   "execution_count": 4,
   "metadata": {},
   "outputs": [],
   "source": [
    "# Define Objective function\n",
    "model += 20 * A + 40 * B"
   ]
  },
  {
   "cell_type": "code",
   "execution_count": 5,
   "metadata": {},
   "outputs": [],
   "source": [
    "# Define Constraints\n",
    "model += 0.5 * A + 1 * B <= 30\n",
    "model += 1 * A + 2.5 * B <= 60\n",
    "model += 1 * A + 2 * B <= 22"
   ]
  },
  {
   "cell_type": "code",
   "execution_count": 6,
   "metadata": {},
   "outputs": [
    {
     "data": {
      "text/plain": [
       "Maximuze_Bakery_Profits:\n",
       "MAXIMIZE\n",
       "20*Cake_A + 40*Cake_B + 0\n",
       "SUBJECT TO\n",
       "_C1: 0.5 Cake_A + Cake_B <= 30\n",
       "\n",
       "_C2: Cake_A + 2.5 Cake_B <= 60\n",
       "\n",
       "_C3: Cake_A + 2 Cake_B <= 22\n",
       "\n",
       "VARIABLES\n",
       "0 <= Cake_A Integer\n",
       "0 <= Cake_B Integer"
      ]
     },
     "execution_count": 6,
     "metadata": {},
     "output_type": "execute_result"
    }
   ],
   "source": [
    "# Problems statement\n",
    "model"
   ]
  },
  {
   "cell_type": "code",
   "execution_count": 7,
   "metadata": {},
   "outputs": [
    {
     "name": "stdout",
     "output_type": "stream",
     "text": [
      "Produce 0.0 Cake A\n",
      "Produce 11.0 Cake B\n"
     ]
    }
   ],
   "source": [
    "# Solve Model\n",
    "model.solve()\n",
    "print(f'Produce {A.varValue} Cake A')\n",
    "print(f'Produce {B.varValue} Cake B')"
   ]
  },
  {
   "cell_type": "code",
   "execution_count": null,
   "metadata": {},
   "outputs": [],
   "source": []
  },
  {
   "cell_type": "code",
   "execution_count": null,
   "metadata": {},
   "outputs": [],
   "source": []
  }
 ],
 "metadata": {
  "kernelspec": {
   "display_name": "Python 3",
   "language": "python",
   "name": "python3"
  },
  "language_info": {
   "codemirror_mode": {
    "name": "ipython",
    "version": 3
   },
   "file_extension": ".py",
   "mimetype": "text/x-python",
   "name": "python",
   "nbconvert_exporter": "python",
   "pygments_lexer": "ipython3",
   "version": "3.7.4"
  }
 },
 "nbformat": 4,
 "nbformat_minor": 4
}
