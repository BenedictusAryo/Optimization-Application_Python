{
 "cells": [
  {
   "cell_type": "markdown",
   "metadata": {},
   "source": [
    "# Basic PuLP for Linear Programming\n",
    "\n",
    "Here's the sample case of Optimization problems that we will solve using PuLP to solve the problems\n"
   ]
  },
  {
   "cell_type": "markdown",
   "metadata": {},
   "source": [
    "## Problems 1: Cake Bakery\n",
    "There are 2 types of cakes sold, Cake A produce profit 20 dollar, Cake B produce profit 40 dollar, \n",
    "\n",
    "Cake A need 0.5 days of working to produce, while Cake B need 1 days. \n",
    "\n",
    "We want to know how many cakes we can made per month to maximize bakery profit given our bakery resources:\n",
    "\n",
    "* 1 Oven\n",
    "* 2 Bakers\n",
    "* 1 Packaging packer (only worksfor 22 days per month)\n",
    "\n",
    "\n",
    "### Solving:\n",
    "* Objective function : Profit = 20*A + 40*B\n",
    "* Subject to:\n",
    "    * A >= 0\n",
    "    * B >= 0\n",
    "    * 0.5A + 1B <=30"
   ]
  },
  {
   "cell_type": "code",
   "execution_count": 1,
   "metadata": {},
   "outputs": [],
   "source": [
    "from pulp import *"
   ]
  },
  {
   "cell_type": "code",
   "execution_count": null,
   "metadata": {},
   "outputs": [],
   "source": []
  }
 ],
 "metadata": {
  "kernelspec": {
   "display_name": "Python 3",
   "language": "python",
   "name": "python3"
  },
  "language_info": {
   "codemirror_mode": {
    "name": "ipython",
    "version": 3
   },
   "file_extension": ".py",
   "mimetype": "text/x-python",
   "name": "python",
   "nbconvert_exporter": "python",
   "pygments_lexer": "ipython3",
   "version": "3.7.4"
  }
 },
 "nbformat": 4,
 "nbformat_minor": 4
}
